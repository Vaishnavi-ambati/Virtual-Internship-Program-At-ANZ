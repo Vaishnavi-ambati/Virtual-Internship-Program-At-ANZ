{
 "cells": [
  {
   "cell_type": "code",
   "execution_count": 1,
   "metadata": {},
   "outputs": [
    {
     "name": "stderr",
     "output_type": "stream",
     "text": [
      "C:\\Users\\mural\\Anaconda3\\lib\\site-packages\\statsmodels\\tools\\_testing.py:19: FutureWarning: pandas.util.testing is deprecated. Use the functions in the public API at pandas.testing instead.\n",
      "  import pandas.util.testing as tm\n"
     ]
    }
   ],
   "source": [
    "import pandas as pd\n",
    "import numpy as np\n",
    "import pandas as pd\n",
    "import seaborn as sns\n",
    "import matplotlib.pyplot as plt\n",
    "from sklearn.linear_model import LinearRegression\n",
    "from sklearn.tree import DecisionTreeRegressor\n",
    "from sklearn.cluster import KMeans\n",
    "from sklearn.preprocessing import PolynomialFeatures\n",
    "from sklearn.model_selection import train_test_split\n",
    "from sklearn.metrics import mean_squared_error, r2_score"
   ]
  },
  {
   "cell_type": "code",
   "execution_count": 3,
   "metadata": {},
   "outputs": [],
   "source": [
    "df = pd.read_excel('transaction.xlsx')"
   ]
  },
  {
   "cell_type": "code",
   "execution_count": 4,
   "metadata": {},
   "outputs": [
    {
     "data": {
      "text/html": [
       "<div>\n",
       "<style scoped>\n",
       "    .dataframe tbody tr th:only-of-type {\n",
       "        vertical-align: middle;\n",
       "    }\n",
       "\n",
       "    .dataframe tbody tr th {\n",
       "        vertical-align: top;\n",
       "    }\n",
       "\n",
       "    .dataframe thead th {\n",
       "        text-align: right;\n",
       "    }\n",
       "</style>\n",
       "<table border=\"1\" class=\"dataframe\">\n",
       "  <thead>\n",
       "    <tr style=\"text-align: right;\">\n",
       "      <th></th>\n",
       "      <th>0</th>\n",
       "      <th>1</th>\n",
       "      <th>2</th>\n",
       "      <th>3</th>\n",
       "      <th>4</th>\n",
       "    </tr>\n",
       "  </thead>\n",
       "  <tbody>\n",
       "    <tr>\n",
       "      <th>status</th>\n",
       "      <td>authorized</td>\n",
       "      <td>authorized</td>\n",
       "      <td>authorized</td>\n",
       "      <td>authorized</td>\n",
       "      <td>authorized</td>\n",
       "    </tr>\n",
       "    <tr>\n",
       "      <th>card_present_flag</th>\n",
       "      <td>1</td>\n",
       "      <td>0</td>\n",
       "      <td>1</td>\n",
       "      <td>1</td>\n",
       "      <td>1</td>\n",
       "    </tr>\n",
       "    <tr>\n",
       "      <th>bpay_biller_code</th>\n",
       "      <td>NaN</td>\n",
       "      <td>NaN</td>\n",
       "      <td>NaN</td>\n",
       "      <td>NaN</td>\n",
       "      <td>NaN</td>\n",
       "    </tr>\n",
       "    <tr>\n",
       "      <th>account</th>\n",
       "      <td>ACC-1598451071</td>\n",
       "      <td>ACC-1598451071</td>\n",
       "      <td>ACC-1222300524</td>\n",
       "      <td>ACC-1037050564</td>\n",
       "      <td>ACC-1598451071</td>\n",
       "    </tr>\n",
       "    <tr>\n",
       "      <th>currency</th>\n",
       "      <td>AUD</td>\n",
       "      <td>AUD</td>\n",
       "      <td>AUD</td>\n",
       "      <td>AUD</td>\n",
       "      <td>AUD</td>\n",
       "    </tr>\n",
       "    <tr>\n",
       "      <th>long_lat</th>\n",
       "      <td>153.41 -27.95</td>\n",
       "      <td>153.41 -27.95</td>\n",
       "      <td>151.23 -33.94</td>\n",
       "      <td>153.10 -27.66</td>\n",
       "      <td>153.41 -27.95</td>\n",
       "    </tr>\n",
       "    <tr>\n",
       "      <th>txn_description</th>\n",
       "      <td>POS</td>\n",
       "      <td>SALES-POS</td>\n",
       "      <td>POS</td>\n",
       "      <td>SALES-POS</td>\n",
       "      <td>SALES-POS</td>\n",
       "    </tr>\n",
       "    <tr>\n",
       "      <th>merchant_id</th>\n",
       "      <td>81c48296-73be-44a7-befa-d053f48ce7cd</td>\n",
       "      <td>830a451c-316e-4a6a-bf25-e37caedca49e</td>\n",
       "      <td>835c231d-8cdf-4e96-859d-e9d571760cf0</td>\n",
       "      <td>48514682-c78a-4a88-b0da-2d6302e64673</td>\n",
       "      <td>b4e02c10-0852-4273-b8fd-7b3395e32eb0</td>\n",
       "    </tr>\n",
       "    <tr>\n",
       "      <th>merchant_code</th>\n",
       "      <td>NaN</td>\n",
       "      <td>NaN</td>\n",
       "      <td>NaN</td>\n",
       "      <td>NaN</td>\n",
       "      <td>NaN</td>\n",
       "    </tr>\n",
       "    <tr>\n",
       "      <th>first_name</th>\n",
       "      <td>Diana</td>\n",
       "      <td>Diana</td>\n",
       "      <td>Michael</td>\n",
       "      <td>Rhonda</td>\n",
       "      <td>Diana</td>\n",
       "    </tr>\n",
       "    <tr>\n",
       "      <th>balance</th>\n",
       "      <td>35.39</td>\n",
       "      <td>21.2</td>\n",
       "      <td>5.71</td>\n",
       "      <td>2117.22</td>\n",
       "      <td>17.95</td>\n",
       "    </tr>\n",
       "    <tr>\n",
       "      <th>date</th>\n",
       "      <td>2018-08-01 00:00:00</td>\n",
       "      <td>2018-08-01 00:00:00</td>\n",
       "      <td>2018-08-01 00:00:00</td>\n",
       "      <td>2018-08-01 00:00:00</td>\n",
       "      <td>2018-08-01 00:00:00</td>\n",
       "    </tr>\n",
       "    <tr>\n",
       "      <th>gender</th>\n",
       "      <td>F</td>\n",
       "      <td>F</td>\n",
       "      <td>M</td>\n",
       "      <td>F</td>\n",
       "      <td>F</td>\n",
       "    </tr>\n",
       "    <tr>\n",
       "      <th>age</th>\n",
       "      <td>26</td>\n",
       "      <td>26</td>\n",
       "      <td>38</td>\n",
       "      <td>40</td>\n",
       "      <td>26</td>\n",
       "    </tr>\n",
       "    <tr>\n",
       "      <th>merchant_suburb</th>\n",
       "      <td>Ashmore</td>\n",
       "      <td>Sydney</td>\n",
       "      <td>Sydney</td>\n",
       "      <td>Buderim</td>\n",
       "      <td>Mermaid Beach</td>\n",
       "    </tr>\n",
       "    <tr>\n",
       "      <th>merchant_state</th>\n",
       "      <td>QLD</td>\n",
       "      <td>NSW</td>\n",
       "      <td>NSW</td>\n",
       "      <td>QLD</td>\n",
       "      <td>QLD</td>\n",
       "    </tr>\n",
       "    <tr>\n",
       "      <th>extraction</th>\n",
       "      <td>2018-08-01T01:01:15.000+0000</td>\n",
       "      <td>2018-08-01T01:13:45.000+0000</td>\n",
       "      <td>2018-08-01T01:26:15.000+0000</td>\n",
       "      <td>2018-08-01T01:38:45.000+0000</td>\n",
       "      <td>2018-08-01T01:51:15.000+0000</td>\n",
       "    </tr>\n",
       "    <tr>\n",
       "      <th>amount</th>\n",
       "      <td>16.25</td>\n",
       "      <td>14.19</td>\n",
       "      <td>6.42</td>\n",
       "      <td>40.9</td>\n",
       "      <td>3.25</td>\n",
       "    </tr>\n",
       "    <tr>\n",
       "      <th>transaction_id</th>\n",
       "      <td>a623070bfead4541a6b0fff8a09e706c</td>\n",
       "      <td>13270a2a902145da9db4c951e04b51b9</td>\n",
       "      <td>feb79e7ecd7048a5a36ec889d1a94270</td>\n",
       "      <td>2698170da3704fd981b15e64a006079e</td>\n",
       "      <td>329adf79878c4cf0aeb4188b4691c266</td>\n",
       "    </tr>\n",
       "    <tr>\n",
       "      <th>country</th>\n",
       "      <td>Australia</td>\n",
       "      <td>Australia</td>\n",
       "      <td>Australia</td>\n",
       "      <td>Australia</td>\n",
       "      <td>Australia</td>\n",
       "    </tr>\n",
       "    <tr>\n",
       "      <th>customer_id</th>\n",
       "      <td>CUS-2487424745</td>\n",
       "      <td>CUS-2487424745</td>\n",
       "      <td>CUS-2142601169</td>\n",
       "      <td>CUS-1614226872</td>\n",
       "      <td>CUS-2487424745</td>\n",
       "    </tr>\n",
       "    <tr>\n",
       "      <th>merchant_long_lat</th>\n",
       "      <td>153.38 -27.99</td>\n",
       "      <td>151.21 -33.87</td>\n",
       "      <td>151.21 -33.87</td>\n",
       "      <td>153.05 -26.68</td>\n",
       "      <td>153.44 -28.06</td>\n",
       "    </tr>\n",
       "    <tr>\n",
       "      <th>movement</th>\n",
       "      <td>debit</td>\n",
       "      <td>debit</td>\n",
       "      <td>debit</td>\n",
       "      <td>debit</td>\n",
       "      <td>debit</td>\n",
       "    </tr>\n",
       "  </tbody>\n",
       "</table>\n",
       "</div>"
      ],
      "text/plain": [
       "                                                      0  \\\n",
       "status                                       authorized   \n",
       "card_present_flag                                     1   \n",
       "bpay_biller_code                                    NaN   \n",
       "account                                  ACC-1598451071   \n",
       "currency                                            AUD   \n",
       "long_lat                                  153.41 -27.95   \n",
       "txn_description                                     POS   \n",
       "merchant_id        81c48296-73be-44a7-befa-d053f48ce7cd   \n",
       "merchant_code                                       NaN   \n",
       "first_name                                        Diana   \n",
       "balance                                           35.39   \n",
       "date                                2018-08-01 00:00:00   \n",
       "gender                                                F   \n",
       "age                                                  26   \n",
       "merchant_suburb                                 Ashmore   \n",
       "merchant_state                                      QLD   \n",
       "extraction                 2018-08-01T01:01:15.000+0000   \n",
       "amount                                            16.25   \n",
       "transaction_id         a623070bfead4541a6b0fff8a09e706c   \n",
       "country                                       Australia   \n",
       "customer_id                              CUS-2487424745   \n",
       "merchant_long_lat                         153.38 -27.99   \n",
       "movement                                          debit   \n",
       "\n",
       "                                                      1  \\\n",
       "status                                       authorized   \n",
       "card_present_flag                                     0   \n",
       "bpay_biller_code                                    NaN   \n",
       "account                                  ACC-1598451071   \n",
       "currency                                            AUD   \n",
       "long_lat                                  153.41 -27.95   \n",
       "txn_description                               SALES-POS   \n",
       "merchant_id        830a451c-316e-4a6a-bf25-e37caedca49e   \n",
       "merchant_code                                       NaN   \n",
       "first_name                                        Diana   \n",
       "balance                                            21.2   \n",
       "date                                2018-08-01 00:00:00   \n",
       "gender                                                F   \n",
       "age                                                  26   \n",
       "merchant_suburb                                  Sydney   \n",
       "merchant_state                                      NSW   \n",
       "extraction                 2018-08-01T01:13:45.000+0000   \n",
       "amount                                            14.19   \n",
       "transaction_id         13270a2a902145da9db4c951e04b51b9   \n",
       "country                                       Australia   \n",
       "customer_id                              CUS-2487424745   \n",
       "merchant_long_lat                         151.21 -33.87   \n",
       "movement                                          debit   \n",
       "\n",
       "                                                      2  \\\n",
       "status                                       authorized   \n",
       "card_present_flag                                     1   \n",
       "bpay_biller_code                                    NaN   \n",
       "account                                  ACC-1222300524   \n",
       "currency                                            AUD   \n",
       "long_lat                                  151.23 -33.94   \n",
       "txn_description                                     POS   \n",
       "merchant_id        835c231d-8cdf-4e96-859d-e9d571760cf0   \n",
       "merchant_code                                       NaN   \n",
       "first_name                                      Michael   \n",
       "balance                                            5.71   \n",
       "date                                2018-08-01 00:00:00   \n",
       "gender                                                M   \n",
       "age                                                  38   \n",
       "merchant_suburb                                  Sydney   \n",
       "merchant_state                                      NSW   \n",
       "extraction                 2018-08-01T01:26:15.000+0000   \n",
       "amount                                             6.42   \n",
       "transaction_id         feb79e7ecd7048a5a36ec889d1a94270   \n",
       "country                                       Australia   \n",
       "customer_id                              CUS-2142601169   \n",
       "merchant_long_lat                         151.21 -33.87   \n",
       "movement                                          debit   \n",
       "\n",
       "                                                      3  \\\n",
       "status                                       authorized   \n",
       "card_present_flag                                     1   \n",
       "bpay_biller_code                                    NaN   \n",
       "account                                  ACC-1037050564   \n",
       "currency                                            AUD   \n",
       "long_lat                                  153.10 -27.66   \n",
       "txn_description                               SALES-POS   \n",
       "merchant_id        48514682-c78a-4a88-b0da-2d6302e64673   \n",
       "merchant_code                                       NaN   \n",
       "first_name                                       Rhonda   \n",
       "balance                                         2117.22   \n",
       "date                                2018-08-01 00:00:00   \n",
       "gender                                                F   \n",
       "age                                                  40   \n",
       "merchant_suburb                                 Buderim   \n",
       "merchant_state                                      QLD   \n",
       "extraction                 2018-08-01T01:38:45.000+0000   \n",
       "amount                                             40.9   \n",
       "transaction_id         2698170da3704fd981b15e64a006079e   \n",
       "country                                       Australia   \n",
       "customer_id                              CUS-1614226872   \n",
       "merchant_long_lat                         153.05 -26.68   \n",
       "movement                                          debit   \n",
       "\n",
       "                                                      4  \n",
       "status                                       authorized  \n",
       "card_present_flag                                     1  \n",
       "bpay_biller_code                                    NaN  \n",
       "account                                  ACC-1598451071  \n",
       "currency                                            AUD  \n",
       "long_lat                                  153.41 -27.95  \n",
       "txn_description                               SALES-POS  \n",
       "merchant_id        b4e02c10-0852-4273-b8fd-7b3395e32eb0  \n",
       "merchant_code                                       NaN  \n",
       "first_name                                        Diana  \n",
       "balance                                           17.95  \n",
       "date                                2018-08-01 00:00:00  \n",
       "gender                                                F  \n",
       "age                                                  26  \n",
       "merchant_suburb                           Mermaid Beach  \n",
       "merchant_state                                      QLD  \n",
       "extraction                 2018-08-01T01:51:15.000+0000  \n",
       "amount                                             3.25  \n",
       "transaction_id         329adf79878c4cf0aeb4188b4691c266  \n",
       "country                                       Australia  \n",
       "customer_id                              CUS-2487424745  \n",
       "merchant_long_lat                         153.44 -28.06  \n",
       "movement                                          debit  "
      ]
     },
     "execution_count": 4,
     "metadata": {},
     "output_type": "execute_result"
    }
   ],
   "source": [
    "df.head().T"
   ]
  },
  {
   "cell_type": "code",
   "execution_count": 5,
   "metadata": {},
   "outputs": [
    {
     "data": {
      "text/html": [
       "<div>\n",
       "<style scoped>\n",
       "    .dataframe tbody tr th:only-of-type {\n",
       "        vertical-align: middle;\n",
       "    }\n",
       "\n",
       "    .dataframe tbody tr th {\n",
       "        vertical-align: top;\n",
       "    }\n",
       "\n",
       "    .dataframe thead th {\n",
       "        text-align: right;\n",
       "    }\n",
       "</style>\n",
       "<table border=\"1\" class=\"dataframe\">\n",
       "  <thead>\n",
       "    <tr style=\"text-align: right;\">\n",
       "      <th></th>\n",
       "      <th>customer_id</th>\n",
       "      <th>card_present_flag</th>\n",
       "      <th>merchant_code</th>\n",
       "      <th>balance</th>\n",
       "      <th>age</th>\n",
       "      <th>amount</th>\n",
       "    </tr>\n",
       "  </thead>\n",
       "  <tbody>\n",
       "    <tr>\n",
       "      <th>0</th>\n",
       "      <td>CUS-1005756958</td>\n",
       "      <td>0.812500</td>\n",
       "      <td>0.0</td>\n",
       "      <td>2275.852055</td>\n",
       "      <td>53</td>\n",
       "      <td>222.862603</td>\n",
       "    </tr>\n",
       "    <tr>\n",
       "      <th>1</th>\n",
       "      <td>CUS-1117979751</td>\n",
       "      <td>0.826923</td>\n",
       "      <td>0.0</td>\n",
       "      <td>9829.929000</td>\n",
       "      <td>21</td>\n",
       "      <td>339.843700</td>\n",
       "    </tr>\n",
       "  </tbody>\n",
       "</table>\n",
       "</div>"
      ],
      "text/plain": [
       "      customer_id  card_present_flag  merchant_code      balance  age  \\\n",
       "0  CUS-1005756958           0.812500            0.0  2275.852055   53   \n",
       "1  CUS-1117979751           0.826923            0.0  9829.929000   21   \n",
       "\n",
       "       amount  \n",
       "0  222.862603  \n",
       "1  339.843700  "
      ]
     },
     "execution_count": 5,
     "metadata": {},
     "output_type": "execute_result"
    }
   ],
   "source": [
    "df_trial = df.groupby(\"customer_id\").mean().reset_index()\n",
    "df_trial.head(2)"
   ]
  },
  {
   "cell_type": "code",
   "execution_count": 6,
   "metadata": {},
   "outputs": [
    {
     "data": {
      "text/plain": [
       "SALES-POS     3934\n",
       "POS           3783\n",
       "PAYMENT       2600\n",
       "PAY/SALARY     883\n",
       "INTER BANK     742\n",
       "PHONE BANK     101\n",
       "Name: txn_description, dtype: int64"
      ]
     },
     "execution_count": 6,
     "metadata": {},
     "output_type": "execute_result"
    }
   ],
   "source": [
    "df['txn_description'].value_counts()"
   ]
  },
  {
   "cell_type": "code",
   "execution_count": 7,
   "metadata": {},
   "outputs": [
    {
     "data": {
      "text/html": [
       "<div>\n",
       "<style scoped>\n",
       "    .dataframe tbody tr th:only-of-type {\n",
       "        vertical-align: middle;\n",
       "    }\n",
       "\n",
       "    .dataframe tbody tr th {\n",
       "        vertical-align: top;\n",
       "    }\n",
       "\n",
       "    .dataframe thead th {\n",
       "        text-align: right;\n",
       "    }\n",
       "</style>\n",
       "<table border=\"1\" class=\"dataframe\">\n",
       "  <thead>\n",
       "    <tr style=\"text-align: right;\">\n",
       "      <th></th>\n",
       "      <th>customer_id</th>\n",
       "      <th>Average of salary</th>\n",
       "    </tr>\n",
       "  </thead>\n",
       "  <tbody>\n",
       "    <tr>\n",
       "      <th>0</th>\n",
       "      <td>CUS-1005756958</td>\n",
       "      <td>970.47</td>\n",
       "    </tr>\n",
       "    <tr>\n",
       "      <th>1</th>\n",
       "      <td>CUS-1117979751</td>\n",
       "      <td>3578.65</td>\n",
       "    </tr>\n",
       "  </tbody>\n",
       "</table>\n",
       "</div>"
      ],
      "text/plain": [
       "      customer_id  Average of salary\n",
       "0  CUS-1005756958             970.47\n",
       "1  CUS-1117979751            3578.65"
      ]
     },
     "execution_count": 7,
     "metadata": {},
     "output_type": "execute_result"
    }
   ],
   "source": [
    "df_salary = df.loc[df['txn_description'] == 'PAY/SALARY'].groupby('customer_id').agg({'amount': [('Average of salary','mean')]})\n",
    "df_salary.columns = df_salary.columns.droplevel()\n",
    "df_salary = df_salary.reset_index()\n",
    "df_salary.head(2)"
   ]
  },
  {
   "cell_type": "code",
   "execution_count": 8,
   "metadata": {},
   "outputs": [],
   "source": [
    "complete_df = pd.merge(df, df_salary, on = 'customer_id')"
   ]
  },
  {
   "cell_type": "code",
   "execution_count": 9,
   "metadata": {},
   "outputs": [
    {
     "data": {
      "text/html": [
       "<div>\n",
       "<style scoped>\n",
       "    .dataframe tbody tr th:only-of-type {\n",
       "        vertical-align: middle;\n",
       "    }\n",
       "\n",
       "    .dataframe tbody tr th {\n",
       "        vertical-align: top;\n",
       "    }\n",
       "\n",
       "    .dataframe thead th {\n",
       "        text-align: right;\n",
       "    }\n",
       "</style>\n",
       "<table border=\"1\" class=\"dataframe\">\n",
       "  <thead>\n",
       "    <tr style=\"text-align: right;\">\n",
       "      <th></th>\n",
       "      <th>status</th>\n",
       "      <th>card_present_flag</th>\n",
       "      <th>bpay_biller_code</th>\n",
       "      <th>account</th>\n",
       "      <th>currency</th>\n",
       "      <th>long_lat</th>\n",
       "      <th>txn_description</th>\n",
       "      <th>merchant_id</th>\n",
       "      <th>merchant_code</th>\n",
       "      <th>first_name</th>\n",
       "      <th>...</th>\n",
       "      <th>merchant_suburb</th>\n",
       "      <th>merchant_state</th>\n",
       "      <th>extraction</th>\n",
       "      <th>amount</th>\n",
       "      <th>transaction_id</th>\n",
       "      <th>country</th>\n",
       "      <th>customer_id</th>\n",
       "      <th>merchant_long_lat</th>\n",
       "      <th>movement</th>\n",
       "      <th>Average of salary</th>\n",
       "    </tr>\n",
       "  </thead>\n",
       "  <tbody>\n",
       "    <tr>\n",
       "      <th>0</th>\n",
       "      <td>authorized</td>\n",
       "      <td>1.0</td>\n",
       "      <td>NaN</td>\n",
       "      <td>ACC-1598451071</td>\n",
       "      <td>AUD</td>\n",
       "      <td>153.41 -27.95</td>\n",
       "      <td>POS</td>\n",
       "      <td>81c48296-73be-44a7-befa-d053f48ce7cd</td>\n",
       "      <td>NaN</td>\n",
       "      <td>Diana</td>\n",
       "      <td>...</td>\n",
       "      <td>Ashmore</td>\n",
       "      <td>QLD</td>\n",
       "      <td>2018-08-01T01:01:15.000+0000</td>\n",
       "      <td>16.25</td>\n",
       "      <td>a623070bfead4541a6b0fff8a09e706c</td>\n",
       "      <td>Australia</td>\n",
       "      <td>CUS-2487424745</td>\n",
       "      <td>153.38 -27.99</td>\n",
       "      <td>debit</td>\n",
       "      <td>1013.67</td>\n",
       "    </tr>\n",
       "    <tr>\n",
       "      <th>1</th>\n",
       "      <td>authorized</td>\n",
       "      <td>0.0</td>\n",
       "      <td>NaN</td>\n",
       "      <td>ACC-1598451071</td>\n",
       "      <td>AUD</td>\n",
       "      <td>153.41 -27.95</td>\n",
       "      <td>SALES-POS</td>\n",
       "      <td>830a451c-316e-4a6a-bf25-e37caedca49e</td>\n",
       "      <td>NaN</td>\n",
       "      <td>Diana</td>\n",
       "      <td>...</td>\n",
       "      <td>Sydney</td>\n",
       "      <td>NSW</td>\n",
       "      <td>2018-08-01T01:13:45.000+0000</td>\n",
       "      <td>14.19</td>\n",
       "      <td>13270a2a902145da9db4c951e04b51b9</td>\n",
       "      <td>Australia</td>\n",
       "      <td>CUS-2487424745</td>\n",
       "      <td>151.21 -33.87</td>\n",
       "      <td>debit</td>\n",
       "      <td>1013.67</td>\n",
       "    </tr>\n",
       "  </tbody>\n",
       "</table>\n",
       "<p>2 rows × 24 columns</p>\n",
       "</div>"
      ],
      "text/plain": [
       "       status  card_present_flag bpay_biller_code         account currency  \\\n",
       "0  authorized                1.0              NaN  ACC-1598451071      AUD   \n",
       "1  authorized                0.0              NaN  ACC-1598451071      AUD   \n",
       "\n",
       "        long_lat txn_description                           merchant_id  \\\n",
       "0  153.41 -27.95             POS  81c48296-73be-44a7-befa-d053f48ce7cd   \n",
       "1  153.41 -27.95       SALES-POS  830a451c-316e-4a6a-bf25-e37caedca49e   \n",
       "\n",
       "   merchant_code first_name  ...  merchant_suburb merchant_state  \\\n",
       "0            NaN      Diana  ...          Ashmore            QLD   \n",
       "1            NaN      Diana  ...           Sydney            NSW   \n",
       "\n",
       "                     extraction  amount                    transaction_id  \\\n",
       "0  2018-08-01T01:01:15.000+0000   16.25  a623070bfead4541a6b0fff8a09e706c   \n",
       "1  2018-08-01T01:13:45.000+0000   14.19  13270a2a902145da9db4c951e04b51b9   \n",
       "\n",
       "     country     customer_id  merchant_long_lat movement Average of salary  \n",
       "0  Australia  CUS-2487424745      153.38 -27.99    debit           1013.67  \n",
       "1  Australia  CUS-2487424745      151.21 -33.87    debit           1013.67  \n",
       "\n",
       "[2 rows x 24 columns]"
      ]
     },
     "execution_count": 9,
     "metadata": {},
     "output_type": "execute_result"
    }
   ],
   "source": [
    "complete_df.head(2)"
   ]
  },
  {
   "cell_type": "code",
   "execution_count": 10,
   "metadata": {},
   "outputs": [],
   "source": [
    "# Keeping only necessary columns\n",
    "complete_df = complete_df[['balance','age','Average of salary','customer_id','txn_description','amount']]"
   ]
  },
  {
   "cell_type": "markdown",
   "metadata": {},
   "source": [
    "# Null Value Check"
   ]
  },
  {
   "cell_type": "code",
   "execution_count": 11,
   "metadata": {},
   "outputs": [
    {
     "data": {
      "text/plain": [
       "balance              0\n",
       "age                  0\n",
       "Average of salary    0\n",
       "customer_id          0\n",
       "txn_description      0\n",
       "amount               0\n",
       "dtype: int64"
      ]
     },
     "execution_count": 11,
     "metadata": {},
     "output_type": "execute_result"
    }
   ],
   "source": [
    "complete_df.isnull().sum()"
   ]
  },
  {
   "cell_type": "code",
   "execution_count": 12,
   "metadata": {},
   "outputs": [
    {
     "data": {
      "text/plain": [
       "(12043, 6)"
      ]
     },
     "execution_count": 12,
     "metadata": {},
     "output_type": "execute_result"
    }
   ],
   "source": [
    "complete_df.shape"
   ]
  },
  {
   "cell_type": "markdown",
   "metadata": {},
   "source": [
    "# Analysis"
   ]
  },
  {
   "cell_type": "code",
   "execution_count": 13,
   "metadata": {},
   "outputs": [
    {
     "data": {
      "text/plain": [
       "<seaborn.axisgrid.FacetGrid at 0x1ecff825a48>"
      ]
     },
     "execution_count": 13,
     "metadata": {},
     "output_type": "execute_result"
    },
    {
     "data": {
      "image/png": "[encoded data removed]",
      "text/plain": [
       "<Figure size 504x504 with 1 Axes>"
      ]
     },
     "metadata": {
      "needs_background": "light"
     },
     "output_type": "display_data"
    }
   ],
   "source": [
    "sns.lmplot(\"age\", \"Average of salary\", data=complete_df, height= 7)"
   ]
  },
  {
   "cell_type": "code",
   "execution_count": 14,
   "metadata": {},
   "outputs": [
    {
     "data": {
      "text/plain": [
       "<seaborn.axisgrid.FacetGrid at 0x1ecff410b48>"
      ]
     },
     "execution_count": 14,
     "metadata": {},
     "output_type": "execute_result"
    },
    {
     "data": {
      "image/png": "[encoded data removed]",
      "text/plain": [
       "<Figure size 504x504 with 1 Axes>"
      ]
     },
     "metadata": {
      "needs_background": "light"
     },
     "output_type": "display_data"
    }
   ],
   "source": [
    "sns.lmplot(\"balance\", \"Average of salary\", data=complete_df,height = 7)"
   ]
  },
  {
   "cell_type": "code",
   "execution_count": 15,
   "metadata": {},
   "outputs": [
    {
     "data": {
      "text/plain": [
       "<seaborn.axisgrid.FacetGrid at 0x1ecff7ac808>"
      ]
     },
     "execution_count": 15,
     "metadata": {},
     "output_type": "execute_result"
    },
    {
     "data": {
      "image/png": "[encoded data removed]",
      "text/plain": [
       "<Figure size 504x504 with 1 Axes>"
      ]
     },
     "metadata": {
      "needs_background": "light"
     },
     "output_type": "display_data"
    }
   ],
   "source": [
    "sns.lmplot('amount','Average of salary',height=7, data= complete_df)"
   ]
  },
  {
   "cell_type": "markdown",
   "metadata": {},
   "source": [
    "# Feature Engineering"
   ]
  },
  {
   "cell_type": "code",
   "execution_count": 16,
   "metadata": {},
   "outputs": [],
   "source": [
    "pos = complete_df[complete_df[\"txn_description\"]==(\"POS\"or\"SALES-POS\")].groupby(\"customer_id\").agg({'amount': [('POS','mean')]})\n",
    "pos.columns = pos.columns.droplevel()\n",
    "pos = pos.reset_index()\n",
    "\n",
    "payment = complete_df[complete_df[\"txn_description\"]==(\"PAYMENT\")].groupby(\"customer_id\").agg({'amount': [('payment','mean')]})\n",
    "payment.columns = payment.columns.droplevel()\n",
    "payment = payment.reset_index()\n",
    "\n",
    "complete_df = pd.merge(complete_df, pos, on = 'customer_id')\n",
    "complete_df = pd.merge(complete_df, payment, on = 'customer_id')"
   ]
  },
  {
   "cell_type": "code",
   "execution_count": 17,
   "metadata": {},
   "outputs": [
    {
     "data": {
      "text/html": [
       "<div>\n",
       "<style scoped>\n",
       "    .dataframe tbody tr th:only-of-type {\n",
       "        vertical-align: middle;\n",
       "    }\n",
       "\n",
       "    .dataframe tbody tr th {\n",
       "        vertical-align: top;\n",
       "    }\n",
       "\n",
       "    .dataframe thead th {\n",
       "        text-align: right;\n",
       "    }\n",
       "</style>\n",
       "<table border=\"1\" class=\"dataframe\">\n",
       "  <thead>\n",
       "    <tr style=\"text-align: right;\">\n",
       "      <th></th>\n",
       "      <th>balance</th>\n",
       "      <th>age</th>\n",
       "      <th>Average of salary</th>\n",
       "      <th>customer_id</th>\n",
       "      <th>txn_description</th>\n",
       "      <th>amount</th>\n",
       "      <th>POS</th>\n",
       "      <th>payment</th>\n",
       "    </tr>\n",
       "  </thead>\n",
       "  <tbody>\n",
       "    <tr>\n",
       "      <th>0</th>\n",
       "      <td>35.39</td>\n",
       "      <td>26</td>\n",
       "      <td>1013.67</td>\n",
       "      <td>CUS-2487424745</td>\n",
       "      <td>POS</td>\n",
       "      <td>16.25</td>\n",
       "      <td>18.652394</td>\n",
       "      <td>97.941176</td>\n",
       "    </tr>\n",
       "    <tr>\n",
       "      <th>1</th>\n",
       "      <td>21.20</td>\n",
       "      <td>26</td>\n",
       "      <td>1013.67</td>\n",
       "      <td>CUS-2487424745</td>\n",
       "      <td>SALES-POS</td>\n",
       "      <td>14.19</td>\n",
       "      <td>18.652394</td>\n",
       "      <td>97.941176</td>\n",
       "    </tr>\n",
       "  </tbody>\n",
       "</table>\n",
       "</div>"
      ],
      "text/plain": [
       "   balance  age  Average of salary     customer_id txn_description  amount  \\\n",
       "0    35.39   26            1013.67  CUS-2487424745             POS   16.25   \n",
       "1    21.20   26            1013.67  CUS-2487424745       SALES-POS   14.19   \n",
       "\n",
       "         POS    payment  \n",
       "0  18.652394  97.941176  \n",
       "1  18.652394  97.941176  "
      ]
     },
     "execution_count": 17,
     "metadata": {},
     "output_type": "execute_result"
    }
   ],
   "source": [
    "complete_df.head(2)"
   ]
  },
  {
   "cell_type": "code",
   "execution_count": 19,
   "metadata": {},
   "outputs": [
    {
     "data": {
      "image/png": "[encoded data removed]",
      "text/plain": [
       "<Figure size 576x576 with 2 Axes>"
      ]
     },
     "metadata": {
      "needs_background": "light"
     },
     "output_type": "display_data"
    }
   ],
   "source": [
    "mask = np.zeros_like(complete_df.corr(), dtype=np.bool)\n",
    "mask[np.triu_indices_from(mask)] = True\n",
    "\n",
    "plt.figure(figsize=(8,8))\n",
    "\n",
    "# Building heatmap\n",
    "sns.heatmap(complete_df.corr() ,vmax=.3 , center=0 , cmap='coolwarm',\n",
    "            square=True , linewidths=.5 , cbar_kws={'shrink': .5}, \n",
    "            annot = True, mask = mask)\n",
    "plt.title(\"Correlation between features\")\n",
    "plt.show()"
   ]
  },
  {
   "cell_type": "markdown",
   "metadata": {},
   "source": [
    "# Modelling"
   ]
  },
  {
   "cell_type": "code",
   "execution_count": 20,
   "metadata": {},
   "outputs": [],
   "source": [
    "X = complete_df[[ 'balance','age','POS', 'Average of salary', 'payment']]\n",
    "y = complete_df['Average of salary']"
   ]
  },
  {
   "cell_type": "code",
   "execution_count": 21,
   "metadata": {},
   "outputs": [],
   "source": [
    "X_train, X_test, y_train, y_test = train_test_split( X, y, test_size=0.2, random_state=42)"
   ]
  },
  {
   "cell_type": "markdown",
   "metadata": {},
   "source": [
    "## Linear Regression"
   ]
  },
  {
   "cell_type": "code",
   "execution_count": 20,
   "metadata": {},
   "outputs": [],
   "source": [
    "lr = LinearRegression()\n",
    "result = lr.fit(X_train, y_train)"
   ]
  },
  {
   "cell_type": "code",
   "execution_count": 21,
   "metadata": {},
   "outputs": [],
   "source": [
    "y_pred=result.predict(X_test)"
   ]
  },
  {
   "cell_type": "code",
   "execution_count": 22,
   "metadata": {},
   "outputs": [],
   "source": [
    "RMSE = mean_squared_error(y_test, y_pred, squared=False)"
   ]
  },
  {
   "cell_type": "code",
   "execution_count": 23,
   "metadata": {},
   "outputs": [
    {
     "name": "stdout",
     "output_type": "stream",
     "text": [
      "RMSE of Linear Regression is:  8.582641376189301e-12\n"
     ]
    }
   ],
   "source": [
    "print(\"RMSE of Linear Regression is: \",RMSE)"
   ]
  },
  {
   "cell_type": "markdown",
   "metadata": {},
   "source": [
    "## Decision Tree"
   ]
  },
  {
   "cell_type": "code",
   "execution_count": 24,
   "metadata": {},
   "outputs": [
    {
     "data": {
      "text/plain": [
       "1.0"
      ]
     },
     "execution_count": 24,
     "metadata": {},
     "output_type": "execute_result"
    }
   ],
   "source": [
    "dt = DecisionTreeRegressor()\n",
    "\n",
    "dt.fit(X_train, y_train)\n",
    "dt.score(X_train, y_train)"
   ]
  },
  {
   "cell_type": "code",
   "execution_count": 25,
   "metadata": {},
   "outputs": [
    {
     "data": {
      "text/plain": [
       "1.0"
      ]
     },
     "execution_count": 25,
     "metadata": {},
     "output_type": "execute_result"
    }
   ],
   "source": [
    "dt.predict(X_test)\n",
    "dt.score(X_test, y_test)"
   ]
  },
  {
   "cell_type": "code",
   "execution_count": 26,
   "metadata": {},
   "outputs": [
    {
     "data": {
      "text/plain": [
       "array([1630.36,  996.24,  982.71, ..., 4863.62, 4132.23, 1002.13])"
      ]
     },
     "execution_count": 26,
     "metadata": {},
     "output_type": "execute_result"
    }
   ],
   "source": [
    "y_pred_dt=dt.predict(X_test)\n",
    "y_pred_dt"
   ]
  },
  {
   "cell_type": "code",
   "execution_count": 27,
   "metadata": {},
   "outputs": [
    {
     "name": "stdout",
     "output_type": "stream",
     "text": [
      "RMSE of Decision Tree is:  4.3732826139192735e-12\n"
     ]
    }
   ],
   "source": [
    "RMSE = mean_squared_error(y_test, y_pred_dt, squared=False)\n",
    "print(\"RMSE of Decision Tree is: \",RMSE)"
   ]
  },
  {
   "cell_type": "code",
   "execution_count": null,
   "metadata": {},
   "outputs": [],
   "source": []
  },
  {
   "cell_type": "markdown",
   "metadata": {},
   "source": [
    "<font color = 'blue'>Inferences</font>\n",
    "\n",
    "* Decsion Tree performed a bit better than Linear Regression\n",
    "* A bigger dataset with more number of customer is needed to increase the accuracy of the model.\n",
    "* We cannot use these models in industry because of high error rate. The model can proform better with more data and more analysis."
   ]
  },
  {
   "cell_type": "code",
   "execution_count": null,
   "metadata": {},
   "outputs": [],
   "source": []
  }
 ],
 "metadata": {
  "kernelspec": {
   "display_name": "Python 3",
   "language": "python",
   "name": "python3"
  },
  "language_info": {
   "codemirror_mode": {
    "name": "ipython",
    "version": 3
   },
   "file_extension": ".py",
   "mimetype": "text/x-python",
   "name": "python",
   "nbconvert_exporter": "python",
   "pygments_lexer": "ipython3",
   "version": "3.7.1"
  }
 },
 "nbformat": 4,
 "nbformat_minor": 2
}
